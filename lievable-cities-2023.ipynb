{
 "cells": [
  {
   "cell_type": "code",
   "execution_count": 5,
   "metadata": {},
   "outputs": [],
   "source": [
    "import requests\n",
    "from bs4 import BeautifulSoup\n",
    "import pandas as pd\n",
    "import numpy as np"
   ]
  },
  {
   "cell_type": "code",
   "execution_count": 15,
   "metadata": {},
   "outputs": [
    {
     "name": "stdout",
     "output_type": "stream",
     "text": [
      "200\n"
     ]
    }
   ],
   "source": [
    "page = requests.get(\"https://en.wikipedia.org/wiki/Global_Liveability_Ranking\")\n",
    "print(page.status_code)"
   ]
  },
  {
   "cell_type": "code",
   "execution_count": 7,
   "metadata": {},
   "outputs": [],
   "source": [
    "soup = BeautifulSoup(page.content, 'html.parser')\n",
    "list(soup.children)\n",
    "\n",
    "\n",
    "# HTML TABLE\n",
    "x = soup.find(\"table\",{\"class\":\"wikitable\"})"
   ]
  },
  {
   "cell_type": "code",
   "execution_count": 8,
   "metadata": {},
   "outputs": [
    {
     "name": "stdout",
     "output_type": "stream",
     "text": [
      "2023\n",
      "2022\n",
      "2021\n",
      "2019\n",
      "2018\n",
      "2017\n",
      "2016\n",
      "2015\n"
     ]
    },
    {
     "data": {
      "text/plain": [
       "['2023', '2022', '2021', '2019', '2018', '2017', '2016', '2015']"
      ]
     },
     "execution_count": 8,
     "metadata": {},
     "output_type": "execute_result"
    }
   ],
   "source": [
    "b = soup.find_all(\"span\", {\"class\": \"mw-headline\"}, id=lambda x: x and x.endswith(\"_results\"))\n",
    "for i in b:\n",
    "    print(i.get_text()[0:4])\n",
    "\n",
    "year_extracted = [i.get_text()[0:4] for i in b]\n",
    "year_extracted"
   ]
  },
  {
   "cell_type": "code",
   "execution_count": 9,
   "metadata": {},
   "outputs": [],
   "source": [
    "x = f'''{soup.find_all(\"table\", {\"class\": \"wikitable\"})}'''\n",
    "df = pd.read_html(x)"
   ]
  },
  {
   "cell_type": "code",
   "execution_count": 10,
   "metadata": {},
   "outputs": [],
   "source": [
    "## Enumarating the year of each df\n",
    "for i, year in enumerate(year_extracted):\n",
    "    df[i]['Year'] = year"
   ]
  },
  {
   "cell_type": "code",
   "execution_count": 11,
   "metadata": {},
   "outputs": [
    {
     "data": {
      "text/plain": [
       "[[    Sl.        City  Ratings      Country  Year\n",
       "  0     1      Vienna    100.0      Austria  2023\n",
       "  1     2  Copenhagen     98.0      Denmark  2023\n",
       "  2     3   Melbourne     97.8    Australia  2023\n",
       "  3     4      Sydney     97.4    Australia  2023\n",
       "  4     5   Vancouver     97.3       Canada  2023\n",
       "  5     6      Zurich     97.1  Switzerland  2023\n",
       "  6     7     Calgary     96.8       Canada  2023\n",
       "  7     7      Geneva     96.8  Switzerland  2023\n",
       "  8     9     Toronto     96.5       Canada  2023\n",
       "  9    10       Osaka     96.0        Japan  2023\n",
       "  10   10    Auckland     96.0  New Zealand  2023],\n",
       " [    Sl.        City  Ratings      Country  Year\n",
       "  0     1      Vienna     99.1      Austria  2022\n",
       "  1     2  Copenhagen     98.0      Denmark  2022\n",
       "  2     3      Zurich     96.3  Switzerland  2022\n",
       "  3     3     Calgary     96.3       Canada  2022\n",
       "  4     5   Vancouver     96.1       Canada  2022\n",
       "  5     6      Geneva     95.9  Switzerland  2022\n",
       "  6     7   Frankfurt     95.7      Germany  2022\n",
       "  7     8     Toronto     95.4       Canada  2022\n",
       "  8     9   Amsterdam     95.3  Netherlands  2022\n",
       "  9    10   Melbourne     95.1    Australia  2022\n",
       "  10   10       Osaka     95.1        Japan  2022],\n",
       " [   Sl.        City  Ratings      Country  Year\n",
       "  0    1    Auckland     96.0  New Zealand  2021\n",
       "  1    2       Osaka     94.2        Japan  2021\n",
       "  2    3    Adelaide     94.0    Australia  2021\n",
       "  3    4  Wellington     93.7  New Zealand  2021\n",
       "  4    4       Tokyo     93.7        Japan  2021\n",
       "  5    6       Perth     93.3    Australia  2021\n",
       "  6    7      Zurich     92.8  Switzerland  2021\n",
       "  7    8      Geneva     92.5  Switzerland  2021\n",
       "  8    8   Melbourne     92.5    Australia  2021\n",
       "  9   10    Brisbane     92.4    Australia  2021],\n",
       " [   Sl.        City  Ratings    Country  Year\n",
       "  0    1      Vienna     99.1    Austria  2019\n",
       "  1    2   Melbourne     98.4  Australia  2019\n",
       "  2    3      Sydney     98.1  Australia  2019\n",
       "  3    4       Osaka     97.7      Japan  2019\n",
       "  4    5     Calgary     97.5     Canada  2019\n",
       "  5    6   Vancouver     97.3     Canada  2019\n",
       "  6    7       Tokyo     97.2      Japan  2019\n",
       "  7    7     Toronto     97.2     Canada  2019\n",
       "  8    9  Copenhagen     96.8    Denmark  2019\n",
       "  9   10    Adelaide     96.6  Australia  2019],\n",
       " [   Sl.        City  Ratings    Country  Year\n",
       "  0    1      Vienna     99.1    Austria  2018\n",
       "  1    2   Melbourne     98.4  Australia  2018\n",
       "  2    3       Osaka     97.7      Japan  2018\n",
       "  3    4     Calgary     97.5     Canada  2018\n",
       "  4    5      Sydney     97.4  Australia  2018\n",
       "  5    6   Vancouver     97.3     Canada  2018\n",
       "  6    7       Tokyo     97.2      Japan  2018\n",
       "  7    7     Toronto     97.2     Canada  2018\n",
       "  8    9  Copenhagen     96.8    Denmark  2018\n",
       "  9   10    Adelaide     96.6  Australia  2018],\n",
       " [   Sl       City  Ratings      Country  Year\n",
       "  0   1  Melbourne     97.5    Australia  2017\n",
       "  1   2     Vienna     97.4      Austria  2017\n",
       "  2   3  Vancouver     97.3       Canada  2017\n",
       "  3   4    Toronto     97.2       Canada  2017\n",
       "  4   5   Adelaide     96.6    Australia  2017\n",
       "  5   5    Calgary     96.6       Canada  2017\n",
       "  6   7      Perth     95.9    Australia  2017\n",
       "  7   8   Auckland     95.7  New Zealand  2017\n",
       "  8   9   Helsinki     95.6      Finland  2017\n",
       "  9  10    Hamburg     95.0      Germany  2017],\n",
       " [   Sl.       City  Ratings      Country  Year\n",
       "  0    1  Melbourne     97.5    Australia  2016\n",
       "  1    2     Vienna     97.4      Austria  2016\n",
       "  2    3  Vancouver     97.3       Canada  2016\n",
       "  3    4    Toronto     97.2       Canada  2016\n",
       "  4    5   Adelaide     96.6    Australia  2016\n",
       "  5    5    Calgary     96.6       Canada  2016\n",
       "  6    7      Perth     95.9    Australia  2016\n",
       "  7    8   Auckland     95.7  New Zealand  2016\n",
       "  8    9   Helsinki     95.6      Finland  2016\n",
       "  9   10    Hamburg     95.0      Germany  2016],\n",
       " [    Sl.       City  Ratings      Country  Year\n",
       "  0     1  Melbourne     97.5    Australia  2015\n",
       "  1     2     Vienna     97.4      Austria  2015\n",
       "  2     3  Vancouver     97.3       Canada  2015\n",
       "  3     4    Toronto     97.2       Canada  2015\n",
       "  4     5   Adelaide     96.6    Australia  2015\n",
       "  5     5    Calgary     96.6       Canada  2015\n",
       "  6     7     Sydney     96.1    Australia  2015\n",
       "  7     8      Perth     95.9    Australia  2015\n",
       "  8     9   Auckland     95.7  New Zealand  2015\n",
       "  9    10   Helsinki     95.6      Finland  2015\n",
       "  10   10     Zürich     95.6  Switzerland  2015]]"
      ]
     },
     "execution_count": 11,
     "metadata": {},
     "output_type": "execute_result"
    }
   ],
   "source": [
    "## Appending dataframes\n",
    "all_dfs = []\n",
    "for i in df:\n",
    "    all_dfs.append([i])\n",
    "all_dfs"
   ]
  },
  {
   "cell_type": "code",
   "execution_count": 12,
   "metadata": {},
   "outputs": [
    {
     "name": "stderr",
     "output_type": "stream",
     "text": [
      "C:\\Users\\Luiz Felipe\\AppData\\Local\\Temp\\ipykernel_20308\\2067479914.py:4: FutureWarning: The frame.append method is deprecated and will be removed from pandas in a future version. Use pandas.concat instead.\n",
      "  concat_df = concat_df.append([i] , ignore_index=True)\n"
     ]
    }
   ],
   "source": [
    "concat_df = pd.concat = pd.DataFrame()\n",
    "\n",
    "for i in df:\n",
    "    concat_df = concat_df.append([i] , ignore_index=True)\n",
    "\n",
    "concat_df.drop('Sl', axis=1, inplace=True)\n",
    "\n",
    "#filling na rows\n",
    "concat_df['Sl.'] = concat_df['Sl.'].fillna(0).astype(int)"
   ]
  },
  {
   "cell_type": "code",
   "execution_count": 18,
   "metadata": {},
   "outputs": [
    {
     "data": {
      "text/html": [
       "<div>\n",
       "<style scoped>\n",
       "    .dataframe tbody tr th:only-of-type {\n",
       "        vertical-align: middle;\n",
       "    }\n",
       "\n",
       "    .dataframe tbody tr th {\n",
       "        vertical-align: top;\n",
       "    }\n",
       "\n",
       "    .dataframe thead th {\n",
       "        text-align: right;\n",
       "    }\n",
       "</style>\n",
       "<table border=\"1\" class=\"dataframe\">\n",
       "  <thead>\n",
       "    <tr style=\"text-align: right;\">\n",
       "      <th></th>\n",
       "      <th>Sl.</th>\n",
       "      <th>City</th>\n",
       "      <th>Ratings</th>\n",
       "      <th>Country</th>\n",
       "      <th>Year</th>\n",
       "    </tr>\n",
       "  </thead>\n",
       "  <tbody>\n",
       "    <tr>\n",
       "      <th>0</th>\n",
       "      <td>1</td>\n",
       "      <td>Vienna</td>\n",
       "      <td>100.0</td>\n",
       "      <td>Austria</td>\n",
       "      <td>2023</td>\n",
       "    </tr>\n",
       "    <tr>\n",
       "      <th>1</th>\n",
       "      <td>2</td>\n",
       "      <td>Copenhagen</td>\n",
       "      <td>98.0</td>\n",
       "      <td>Denmark</td>\n",
       "      <td>2023</td>\n",
       "    </tr>\n",
       "    <tr>\n",
       "      <th>2</th>\n",
       "      <td>3</td>\n",
       "      <td>Melbourne</td>\n",
       "      <td>97.8</td>\n",
       "      <td>Australia</td>\n",
       "      <td>2023</td>\n",
       "    </tr>\n",
       "    <tr>\n",
       "      <th>3</th>\n",
       "      <td>4</td>\n",
       "      <td>Sydney</td>\n",
       "      <td>97.4</td>\n",
       "      <td>Australia</td>\n",
       "      <td>2023</td>\n",
       "    </tr>\n",
       "    <tr>\n",
       "      <th>4</th>\n",
       "      <td>5</td>\n",
       "      <td>Vancouver</td>\n",
       "      <td>97.3</td>\n",
       "      <td>Canada</td>\n",
       "      <td>2023</td>\n",
       "    </tr>\n",
       "  </tbody>\n",
       "</table>\n",
       "</div>"
      ],
      "text/plain": [
       "   Sl.        City  Ratings    Country  Year\n",
       "0    1      Vienna    100.0    Austria  2023\n",
       "1    2  Copenhagen     98.0    Denmark  2023\n",
       "2    3   Melbourne     97.8  Australia  2023\n",
       "3    4      Sydney     97.4  Australia  2023\n",
       "4    5   Vancouver     97.3     Canada  2023"
      ]
     },
     "execution_count": 18,
     "metadata": {},
     "output_type": "execute_result"
    }
   ],
   "source": [
    "# Extracting to csv so can load on flourish.\n",
    "concat_df.to_csv('data/liveable_2025_2015.csv', index=False)\n",
    "concat_df.head()"
   ]
  }
 ],
 "metadata": {
  "kernelspec": {
   "display_name": "Python 3",
   "language": "python",
   "name": "python3"
  },
  "language_info": {
   "codemirror_mode": {
    "name": "ipython",
    "version": 3
   },
   "file_extension": ".py",
   "mimetype": "text/x-python",
   "name": "python",
   "nbconvert_exporter": "python",
   "pygments_lexer": "ipython3",
   "version": "3.11.0"
  },
  "orig_nbformat": 4
 },
 "nbformat": 4,
 "nbformat_minor": 2
}
