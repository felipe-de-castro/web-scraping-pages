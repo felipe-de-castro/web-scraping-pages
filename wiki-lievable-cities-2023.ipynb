{
 "cells": [
  {
   "cell_type": "code",
   "execution_count": 1,
   "metadata": {},
   "outputs": [],
   "source": [
    "import requests\n",
    "from bs4 import BeautifulSoup\n",
    "import pandas as pd\n",
    "import numpy as np"
   ]
  },
  {
   "cell_type": "code",
   "execution_count": 2,
   "metadata": {},
   "outputs": [
    {
     "name": "stdout",
     "output_type": "stream",
     "text": [
      "200\n"
     ]
    }
   ],
   "source": [
    "page = requests.get(\"https://en.wikipedia.org/wiki/Global_Liveability_Ranking\")\n",
    "print(page.status_code)"
   ]
  },
  {
   "cell_type": "code",
   "execution_count": 3,
   "metadata": {},
   "outputs": [],
   "source": [
    "soup = BeautifulSoup(page.content, 'html.parser')\n",
    "# HTML TABLE\n",
    "x = soup.find(\"table\",{\"class\":\"wikitable\"})"
   ]
  },
  {
   "cell_type": "code",
   "execution_count": 4,
   "metadata": {},
   "outputs": [
    {
     "name": "stdout",
     "output_type": "stream",
     "text": [
      "2023\n",
      "2022\n",
      "2021\n",
      "2019\n",
      "2018\n",
      "2017\n",
      "2016\n",
      "2015\n"
     ]
    },
    {
     "data": {
      "text/plain": [
       "['2023', '2022', '2021', '2019', '2018', '2017', '2016', '2015']"
      ]
     },
     "execution_count": 4,
     "metadata": {},
     "output_type": "execute_result"
    }
   ],
   "source": [
    "b = soup.find_all(\"span\", {\"class\": \"mw-headline\"}, id=lambda x: x and x.endswith(\"_results\"))\n",
    "for i in b:\n",
    "    print(i.get_text()[0:4])\n",
    "\n",
    "year_extracted = [i.get_text()[0:4] for i in b]\n",
    "year_extracted"
   ]
  },
  {
   "cell_type": "code",
   "execution_count": 5,
   "metadata": {},
   "outputs": [],
   "source": [
    "x = f'''{soup.find_all(\"table\", {\"class\": \"wikitable\"})}'''\n",
    "df = pd.read_html(x)"
   ]
  },
  {
   "cell_type": "code",
   "execution_count": 6,
   "metadata": {},
   "outputs": [],
   "source": [
    "## Enumarating the year of each df\n",
    "for i, year in enumerate(year_extracted):\n",
    "    df[i]['Year'] = year"
   ]
  },
  {
   "cell_type": "code",
   "execution_count": 7,
   "metadata": {},
   "outputs": [
    {
     "name": "stderr",
     "output_type": "stream",
     "text": [
      "C:\\Users\\Luiz Felipe\\AppData\\Local\\Temp\\ipykernel_22964\\3505062759.py:4: FutureWarning: The frame.append method is deprecated and will be removed from pandas in a future version. Use pandas.concat instead.\n",
      "  concat_df = concat_df.append([i] , ignore_index=True)\n"
     ]
    }
   ],
   "source": [
    "concat_df = pd.concat = pd.DataFrame()\n",
    "\n",
    "for i in df:\n",
    "    concat_df = concat_df.append([i] , ignore_index=True)\n",
    "\n",
    "concat_df.drop('Sl', axis=1, inplace=True)\n",
    "\n",
    "#filling na rows\n",
    "concat_df['Sl.'] = concat_df['Sl.'].fillna(0).astype(int)"
   ]
  },
  {
   "cell_type": "code",
   "execution_count": 8,
   "metadata": {},
   "outputs": [
    {
     "data": {
      "text/html": [
       "<div>\n",
       "<style scoped>\n",
       "    .dataframe tbody tr th:only-of-type {\n",
       "        vertical-align: middle;\n",
       "    }\n",
       "\n",
       "    .dataframe tbody tr th {\n",
       "        vertical-align: top;\n",
       "    }\n",
       "\n",
       "    .dataframe thead th {\n",
       "        text-align: right;\n",
       "    }\n",
       "</style>\n",
       "<table border=\"1\" class=\"dataframe\">\n",
       "  <thead>\n",
       "    <tr style=\"text-align: right;\">\n",
       "      <th></th>\n",
       "      <th>Sl.</th>\n",
       "      <th>City</th>\n",
       "      <th>Ratings</th>\n",
       "      <th>Country</th>\n",
       "      <th>Year</th>\n",
       "    </tr>\n",
       "  </thead>\n",
       "  <tbody>\n",
       "    <tr>\n",
       "      <th>0</th>\n",
       "      <td>1</td>\n",
       "      <td>Vienna</td>\n",
       "      <td>100.0</td>\n",
       "      <td>Austria</td>\n",
       "      <td>2023</td>\n",
       "    </tr>\n",
       "    <tr>\n",
       "      <th>1</th>\n",
       "      <td>2</td>\n",
       "      <td>Copenhagen</td>\n",
       "      <td>98.0</td>\n",
       "      <td>Denmark</td>\n",
       "      <td>2023</td>\n",
       "    </tr>\n",
       "    <tr>\n",
       "      <th>2</th>\n",
       "      <td>3</td>\n",
       "      <td>Melbourne</td>\n",
       "      <td>97.8</td>\n",
       "      <td>Australia</td>\n",
       "      <td>2023</td>\n",
       "    </tr>\n",
       "    <tr>\n",
       "      <th>3</th>\n",
       "      <td>4</td>\n",
       "      <td>Sydney</td>\n",
       "      <td>97.4</td>\n",
       "      <td>Australia</td>\n",
       "      <td>2023</td>\n",
       "    </tr>\n",
       "    <tr>\n",
       "      <th>4</th>\n",
       "      <td>5</td>\n",
       "      <td>Vancouver</td>\n",
       "      <td>97.3</td>\n",
       "      <td>Canada</td>\n",
       "      <td>2023</td>\n",
       "    </tr>\n",
       "    <tr>\n",
       "      <th>...</th>\n",
       "      <td>...</td>\n",
       "      <td>...</td>\n",
       "      <td>...</td>\n",
       "      <td>...</td>\n",
       "      <td>...</td>\n",
       "    </tr>\n",
       "    <tr>\n",
       "      <th>78</th>\n",
       "      <td>7</td>\n",
       "      <td>Sydney</td>\n",
       "      <td>96.1</td>\n",
       "      <td>Australia</td>\n",
       "      <td>2015</td>\n",
       "    </tr>\n",
       "    <tr>\n",
       "      <th>79</th>\n",
       "      <td>8</td>\n",
       "      <td>Perth</td>\n",
       "      <td>95.9</td>\n",
       "      <td>Australia</td>\n",
       "      <td>2015</td>\n",
       "    </tr>\n",
       "    <tr>\n",
       "      <th>80</th>\n",
       "      <td>9</td>\n",
       "      <td>Auckland</td>\n",
       "      <td>95.7</td>\n",
       "      <td>New Zealand</td>\n",
       "      <td>2015</td>\n",
       "    </tr>\n",
       "    <tr>\n",
       "      <th>81</th>\n",
       "      <td>10</td>\n",
       "      <td>Helsinki</td>\n",
       "      <td>95.6</td>\n",
       "      <td>Finland</td>\n",
       "      <td>2015</td>\n",
       "    </tr>\n",
       "    <tr>\n",
       "      <th>82</th>\n",
       "      <td>10</td>\n",
       "      <td>Zürich</td>\n",
       "      <td>95.6</td>\n",
       "      <td>Switzerland</td>\n",
       "      <td>2015</td>\n",
       "    </tr>\n",
       "  </tbody>\n",
       "</table>\n",
       "<p>83 rows × 5 columns</p>\n",
       "</div>"
      ],
      "text/plain": [
       "    Sl.        City  Ratings      Country  Year\n",
       "0     1      Vienna    100.0      Austria  2023\n",
       "1     2  Copenhagen     98.0      Denmark  2023\n",
       "2     3   Melbourne     97.8    Australia  2023\n",
       "3     4      Sydney     97.4    Australia  2023\n",
       "4     5   Vancouver     97.3       Canada  2023\n",
       "..  ...         ...      ...          ...   ...\n",
       "78    7      Sydney     96.1    Australia  2015\n",
       "79    8       Perth     95.9    Australia  2015\n",
       "80    9    Auckland     95.7  New Zealand  2015\n",
       "81   10    Helsinki     95.6      Finland  2015\n",
       "82   10      Zürich     95.6  Switzerland  2015\n",
       "\n",
       "[83 rows x 5 columns]"
      ]
     },
     "execution_count": 8,
     "metadata": {},
     "output_type": "execute_result"
    }
   ],
   "source": [
    "# Extracting to csv so can load on flourish.\n",
    "concat_df.to_csv('data/liveable_2025_2015.csv', index=False)\n",
    "concat_df"
   ]
  }
 ],
 "metadata": {
  "kernelspec": {
   "display_name": "Python 3",
   "language": "python",
   "name": "python3"
  },
  "language_info": {
   "codemirror_mode": {
    "name": "ipython",
    "version": 3
   },
   "file_extension": ".py",
   "mimetype": "text/x-python",
   "name": "python",
   "nbconvert_exporter": "python",
   "pygments_lexer": "ipython3",
   "version": "3.11.0"
  },
  "orig_nbformat": 4
 },
 "nbformat": 4,
 "nbformat_minor": 2
}
