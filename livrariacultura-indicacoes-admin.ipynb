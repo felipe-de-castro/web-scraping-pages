{
 "cells": [
  {
   "cell_type": "code",
   "execution_count": 16,
   "metadata": {},
   "outputs": [],
   "source": [
    "# Importing libraries to webscrape\n",
    "import requests\n",
    "import pandas as pd\n",
    "from bs4 import BeautifulSoup\n",
    "import html5lib"
   ]
  },
  {
   "cell_type": "code",
   "execution_count": 17,
   "metadata": {},
   "outputs": [
    {
     "data": {
      "text/plain": [
       "200"
      ]
     },
     "execution_count": 17,
     "metadata": {},
     "output_type": "execute_result"
    }
   ],
   "source": [
    "# Getting the url page and verifying if the page is OK (not 404).\n",
    "url = \"https://www.livrariacultura.com.br/livros\"\n",
    "page = requests.get(url)\n",
    "page.status_code"
   ]
  },
  {
   "cell_type": "code",
   "execution_count": 18,
   "metadata": {},
   "outputs": [],
   "source": [
    "# This code finds all categories of books from the main page the \"livrariacultura\".\n",
    "soup = BeautifulSoup(page.content, 'html.parser')\n",
    "categorias = soup.find_all(\"h4\", attrs={\"class\" : \"livros even\"})"
   ]
  },
  {
   "cell_type": "code",
   "execution_count": 19,
   "metadata": {},
   "outputs": [
    {
     "data": {
      "text/plain": [
       "'HQs'"
      ]
     },
     "execution_count": 19,
     "metadata": {},
     "output_type": "execute_result"
    }
   ],
   "source": [
    "## Trying out a single category of books \n",
    "x = f\"\"\"{categorias[1]}\"\"\"\n",
    "title = BeautifulSoup(x, \"html.parser\").find('a').text\n",
    "title"
   ]
  },
  {
   "cell_type": "code",
   "execution_count": 20,
   "metadata": {},
   "outputs": [
    {
     "data": {
      "text/html": [
       "<div>\n",
       "<style scoped>\n",
       "    .dataframe tbody tr th:only-of-type {\n",
       "        vertical-align: middle;\n",
       "    }\n",
       "\n",
       "    .dataframe tbody tr th {\n",
       "        vertical-align: top;\n",
       "    }\n",
       "\n",
       "    .dataframe thead th {\n",
       "        text-align: right;\n",
       "    }\n",
       "</style>\n",
       "<table border=\"1\" class=\"dataframe\">\n",
       "  <thead>\n",
       "    <tr style=\"text-align: right;\">\n",
       "      <th></th>\n",
       "      <th>categoria</th>\n",
       "      <th>links</th>\n",
       "    </tr>\n",
       "  </thead>\n",
       "  <tbody>\n",
       "    <tr>\n",
       "      <th>0</th>\n",
       "      <td>Administração</td>\n",
       "      <td>https://www.livrariacultura.com.br/livros/admi...</td>\n",
       "    </tr>\n",
       "    <tr>\n",
       "      <th>1</th>\n",
       "      <td>HQs</td>\n",
       "      <td>https://www.livrariacultura.com.br/livros/hqs?...</td>\n",
       "    </tr>\n",
       "    <tr>\n",
       "      <th>2</th>\n",
       "      <td>Engenharia</td>\n",
       "      <td>https://www.livrariacultura.com.br/livros/enge...</td>\n",
       "    </tr>\n",
       "    <tr>\n",
       "      <th>3</th>\n",
       "      <td>Humor e Entretenimento</td>\n",
       "      <td>https://www.livrariacultura.com.br/livros/humo...</td>\n",
       "    </tr>\n",
       "    <tr>\n",
       "      <th>4</th>\n",
       "      <td>Informática e Tecnologia</td>\n",
       "      <td>https://www.livrariacultura.com.br/livros/info...</td>\n",
       "    </tr>\n",
       "  </tbody>\n",
       "</table>\n",
       "</div>"
      ],
      "text/plain": [
       "                  categoria                                              links\n",
       "0             Administração  https://www.livrariacultura.com.br/livros/admi...\n",
       "1                       HQs  https://www.livrariacultura.com.br/livros/hqs?...\n",
       "2                Engenharia  https://www.livrariacultura.com.br/livros/enge...\n",
       "3    Humor e Entretenimento  https://www.livrariacultura.com.br/livros/humo...\n",
       "4  Informática e Tecnologia  https://www.livrariacultura.com.br/livros/info..."
      ]
     },
     "execution_count": 20,
     "metadata": {},
     "output_type": "execute_result"
    }
   ],
   "source": [
    "# Loop to get categories and links from the main page in to a dataframe.\n",
    "categoria = []\n",
    "for i in categorias:\n",
    "    x = f\"\"\"{i}\"\"\" #html quotes\n",
    "    title = BeautifulSoup(x, \"html.parser\").find('a').text\n",
    "    links = BeautifulSoup(x, \"html.parser\").find('a')['href']\n",
    "    #print(title, links)\n",
    "    categoria.append([title,links])\n",
    "\n",
    "df = pd.DataFrame(categoria, columns=[\"categoria\", \"links\"] )\n",
    "\n",
    "## Print a preview the DF\n",
    "df.head()\n"
   ]
  },
  {
   "cell_type": "code",
   "execution_count": 21,
   "metadata": {},
   "outputs": [
    {
     "name": "stdout",
     "output_type": "stream",
     "text": [
      "200\n"
     ]
    }
   ],
   "source": [
    "## Get books from administração\n",
    "\n",
    "url_adm = \"https://www.livrariacultura.com.br/livros/administracao\"\n",
    "page_adm = requests.get(url_adm)\n",
    "print(page_adm.status_code)\n",
    "soup_adm = BeautifulSoup(page_adm.content, 'html.parser')"
   ]
  },
  {
   "cell_type": "code",
   "execution_count": 22,
   "metadata": {},
   "outputs": [
    {
     "data": {
      "text/plain": [
       "'ALÉM DA SEGURANÇA PSICOLÓGICA'"
      ]
     },
     "execution_count": 22,
     "metadata": {},
     "output_type": "execute_result"
    }
   ],
   "source": [
    "\n",
    "# This part tried understading the collecting of the title of the book.\n",
    "url_adm = \"https://www.livrariacultura.com.br/livros/administracao\"\n",
    "page_adm = requests.get(url_adm)\n",
    "page_adm.status_code\n",
    "\n",
    "# html\n",
    "soup_adm = BeautifulSoup(page_adm.content, 'html.parser')\n",
    "livros_adm = soup_adm.find_all('h2' , attrs={\"class\" : \"prateleiraProduto__informacao__nome\"})\n",
    "livros_adm_html = f\"\"\"{livros_adm[0]}\"\"\"\n",
    "livros_adm_title = BeautifulSoup(livros_adm_html, \"html.parser\").find('a').text\n",
    "\n",
    "livros_adm_title "
   ]
  },
  {
   "cell_type": "code",
   "execution_count": 23,
   "metadata": {},
   "outputs": [
    {
     "name": "stdout",
     "output_type": "stream",
     "text": [
      "ALÉM DA SEGURANÇA PSICOLÓGICA\n",
      "A PSICOLOGIA FINANCEIRA\n",
      "ESSENCIALISMO\n",
      "NETWORKING - DE PUTA A PADRE\n",
      "JOGO DESCUBRA SEU TIPO DE PERSONALIDADE NO\n",
      "ULTRACORAJOSO\n",
      "A ORGANIZAÇÃO SEM MEDO\n",
      "AS ARMAS DA PERSUASÃO\n",
      "COMECE PELO PORQUÊ\n",
      "COMO CHEGAR AO SIM\n",
      "SEJA FODA!\n",
      "LIDERANÇA E PROPÓSITO\n",
      "AS 9 CRIANÇAS FERIDAS DO ENEAGRAMA\n",
      "UMA SOBE E PUXA A OUTRA\n",
      "PLANEJAMENTO ESTRATÉGICO\n",
      "GERENCIANDO COM AS PESSOAS\n",
      "EXPERIÊNCIA DO COLABORADOR NA TEORIA\n",
      "PENSE COMO UM CIENTISTA DE FOGUETES\n",
      "CULTURA ORGANIZACIONAL E LIDERANÇA\n",
      "A INTERPRETAÇÃO DAS DEMONSTRAÇÕES FINANCEIRAS\n",
      "DESEMPENHO HUMANO NAS EMPRESAS\n",
      "EMPLOYEE EXPERIENCE, GESTÃO DE PESSOAS E CULTURA ORGANIZACIONAL\n",
      "TREINAMENTO E DESENVOLVIMENTO DE RECURSOS HUMANOS - COMO INCREMENTAR TALENTOS NA EMPRESA\n",
      "REMUNERAÇÃO, BENEFÍCIOS E RELAÇÕES DE TRABALHO - COMO RETER TALENTOS NA ORGANIZAÇÃO\n"
     ]
    }
   ],
   "source": [
    "# Construir loop\n",
    "\n",
    "url_adm = \"https://www.livrariacultura.com.br/livros/administracao\"\n",
    "page_adm = requests.get(url_adm)\n",
    "\n",
    "\n",
    "soup_adm = BeautifulSoup(page_adm.content, 'html.parser')\n",
    "livros = soup_adm.find_all(\"h2\", attrs={\"class\" : \"prateleiraProduto__informacao__nome\"})\n",
    "\n",
    "\n",
    "livro_adm = []\n",
    "for livro in livros:\n",
    "    y = f\"\"\"{livro}\"\"\"\n",
    "    livro = BeautifulSoup(y, \"html.parser\").find('a').text\n",
    "    print(livro)\n",
    "    \n",
    "# Loop deu certo para adminsitração!!!!! "
   ]
  },
  {
   "cell_type": "code",
   "execution_count": 24,
   "metadata": {},
   "outputs": [
    {
     "name": "stdout",
     "output_type": "stream",
     "text": [
      "IDEIAS PARA ADIAR O FIM DO MUNDO (NOVA EDIÇÃO)\n",
      "Ilustrador:NUNES, ALCEU CHIESORIN|Autor:KRENAK, AILTON\n",
      "R$ 37,90\n"
     ]
    }
   ],
   "source": [
    "## Understanding how to extract the compound of title, author and price of a single Book in the main pagina of that category.\n",
    "url_adm = \"https://www.livrariacultura.com.br/livros/ciencias-biologicas?PS=20\"\n",
    "page_adm = requests.get(url_adm)\n",
    "\n",
    "## Get div information of books || prateleiraProduto__informacao had all information: autor, titulo, preço , proço dividido\n",
    "soup_adm = BeautifulSoup(page_adm.content, 'html.parser')\n",
    "livro = soup_adm.find(\"div\", attrs={\"class\" : \"prateleiraProduto__informacao\"})\n",
    "title_html = f\"\"\"{livro}\"\"\"\n",
    "\n",
    "title_text = BeautifulSoup(title_html, \"html.parser\").find(\"h2\", {\"class\":\"prateleiraProduto__informacao__nome\"}).find('a').text\n",
    "print(title_text) ## Print the title of book\n",
    "\n",
    "autor_text = BeautifulSoup(title_html, \"html.parser\").find(\"h3\", {\"class\":\"prateleiraProduto__autor\"}).find('li').text\n",
    "print(autor_text)## Print the autor of book\n",
    "\n",
    "price_text = BeautifulSoup(title_html, \"html.parser\").find(\"div\", {\"class\":\"prateleiraProduto__informacao__preco\"}).find('span', {\"class\":\"prateleiraProduto__informacao__preco--valor\"}).text\n",
    "print(price_text)## print price"
   ]
  },
  {
   "cell_type": "code",
   "execution_count": 25,
   "metadata": {},
   "outputs": [
    {
     "name": "stdout",
     "output_type": "stream",
     "text": [
      "Title: ALÉM DA SEGURANÇA PSICOLÓGICA\n",
      "Author: Autor:BORRONI-BIANCASTELLI, LUCA\n",
      "Price: R$ 79,90\n",
      "Title: A PSICOLOGIA FINANCEIRA\n",
      "Author: Tradutor:FIUZA, BRUNO|Tradutor:CLAPP, ROBERTA|Autor:HOUSEL, MORGAN\n",
      "Price: R$ 49,90\n",
      "Title: ESSENCIALISMO\n",
      "Author: Tradutor:MEDINA, BEATRIZ|Autor:MCKEOWN, GREG\n",
      "Price: R$ 59,90\n",
      "Title: NETWORKING - DE PUTA A PADRE\n",
      "Author: BOM, BRUNO PEDRO / MESQUITA NETO, ANTONIO AMARO\n",
      "Price: R$ 69,90\n",
      "Title: JOGO DESCUBRA SEU TIPO DE PERSONALIDADE NO\n",
      "Author: Autor:MEDA, MARCO|Autor:ROMA, ANDRÉIA\n",
      "Price: R$ 179,90\n",
      "Title: ULTRACORAJOSO\n",
      "Author: Autor:JOTA, JOEL\n",
      "Price: R$ 54,90\n",
      "Title: A ORGANIZAÇÃO SEM MEDO\n",
      "Author: Autor:EDMONDSON, AMY C.\n",
      "Price: R$ 81,00\n",
      "Title: AS ARMAS DA PERSUASÃO\n",
      "Author: Autor:CIALDINI, ROBERT B.|Tradutor:KORYTOWSKI, IVO\n",
      "Price: R$ 54,90\n",
      "Title: COMECE PELO PORQUÊ\n",
      "Author: Autor:SINEK, SIMON\n",
      "Price: R$ 59,90\n",
      "Title: COMO CHEGAR AO SIM\n",
      "Author: Autor:FISHER, ROGER|Autor:PATTON, BRUCE|Autor:URY, WILLIAM|Tradutor:AGAVINO, RACHEL\n",
      "Price: R$ 54,90\n",
      "Title: SEJA FODA!\n",
      "Author: Autor:CARNEIRO, CAIO\n",
      "Price: R$ 59,90\n",
      "Title: LIDERANÇA E PROPÓSITO\n",
      "Author: Autor:KOFMAN, FRED|Tradutor:ZEYTOULIAN, WILLIAM\n",
      "Price: R$ 54,90\n",
      "Title: AS 9 CRIANÇAS FERIDAS DO ENEAGRAMA\n",
      "Author: Organizador:ANDRÉIA ROMA|Autor:MARCO MEDA|Autor:ZUIN, MARIANA\n",
      "Price: R$ 89,90\n",
      "Title: UMA SOBE E PUXA A OUTRA\n",
      "Author: Autor:PELAJO, CHRISTIANE\n",
      "Price: R$ 68,90\n",
      "Title: PLANEJAMENTO ESTRATÉGICO\n",
      "Author: Autor:CHIAVENATO, IDALBERTO\n",
      "Price: R$ 150,00\n",
      "Title: GERENCIANDO COM AS PESSOAS\n",
      "Author: Autor:CHIAVENATO, IDALBERTO\n",
      "Price: R$ 119,00\n",
      "Title: EXPERIÊNCIA DO COLABORADOR NA TEORIA\n",
      "Author: Autor:ANDRADE, BRUNO|Autor:VIDAL, BARBARA|Autor:NÓBREGA, MARCELO|Autor:MACHADO, AGATHA|Autor:MORRISSON, ALESSANDRA|Autor:NOVAES, ANA JULIA|Autor:SIMOES, ANDREA|Autor:MILA, ANDREA|Autor:OLIVEIRA, ARGENTINO|Autor:NOBREGA, BEATRIZ|Autor:LACERDA, BRUNA|Autor:PEDRO, CLAYTON|Autor:BONANÇA, DANIELLA|Autor:CAVALVANTE, ELISA|Autor:LACERDA, FREDERICO|Autor:HERNANDEZ, LEOPOLDO|Autor:GORDIJO, LIDIA|Autor:PIMENTA, MARCELA|Autor:BAENA, MARCIA|Autor:VARALLI, MARIA ELISA|Autor:ZARINO, NARA|Autor:SOUZA, RANDER|Autor:ZAGUI, RAQUEL|Autor:CREDIDIO, RODRIGO|Autor:FARINA, SANDRA|Autor:PAMPU, SILVANA|Autor:BAHDE, SORAYA|Autor:GOPALAN, SUMAN|Autor:BALASTEGUIM, VALERIA|Autor:CLAVERY, SUZIE\n",
      "Price: R$ 89,90\n",
      "Title: PENSE COMO UM CIENTISTA DE FOGUETES\n",
      "Author: Autor:VAROL, OZAN|Tradutor:AMORIM, RENAN\n",
      "Price: R$ 67,00\n",
      "Title: CULTURA ORGANIZACIONAL E LIDERANÇA\n",
      "Author: Autor:SCHEIN, EDGAR H.\n",
      "Price: R$ 183,00\n",
      "Title: A INTERPRETAÇÃO DAS DEMONSTRAÇÕES FINANCEIRAS\n",
      "Author: Autor:GRAHAM, BENJAMIN|Autor:MEREDITH, SPENCER B.|Tradutor:FIUZA, BRUNO\n",
      "Price: R$ 49,90\n",
      "Title: DESEMPENHO HUMANO NAS EMPRESAS\n",
      "Author: Autor:CHIAVENATO, IDALBERTO\n",
      "Price: R$ 76,00\n",
      "Title: EMPLOYEE EXPERIENCE, GESTÃO DE PESSOAS E CULTURA ORGANIZACIONAL\n",
      "Author: Autor:MADRUGA, ROBERTO\n",
      "Price: R$ 114,00\n",
      "Title: TREINAMENTO E DESENVOLVIMENTO DE RECURSOS HUMANOS - COMO INCREMENTAR TALENTOS NA EMPRESA\n",
      "Author: Autor:CHIAVENATO, IDALBERTO\n",
      "Price: R$ 76,00\n",
      "Title: REMUNERAÇÃO, BENEFÍCIOS E RELAÇÕES DE TRABALHO - COMO RETER TALENTOS NA ORGANIZAÇÃO\n",
      "Author: Autor:CHIAVENATO, IDALBERTO\n",
      "Price: R$ 76,00\n"
     ]
    }
   ],
   "source": [
    "urls = [\"https://www.livrariacultura.com.br/livros/administracao\"]\n",
    "\n",
    "\n",
    "for url in urls:\n",
    "    page = requests.get(url)\n",
    "    soup = BeautifulSoup(page.content, 'html.parser')\n",
    "    \n",
    "    # Find all book divs on the page\n",
    "    books = soup.find_all(\"div\", class_=\"prateleiraProduto__informacao\")\n",
    "    \n",
    "    for book in books:\n",
    "        # Extract title\n",
    "        title_text = book.find(\"h2\", class_=\"prateleiraProduto__informacao__nome\").find('a').text\n",
    "        \n",
    "        # Extract author\n",
    "        autor_text = book.find(\"h3\", class_=\"prateleiraProduto__autor\").find('li').text\n",
    "        \n",
    "        # Extract price\n",
    "        price_text = book.find(\"div\", class_=\"prateleiraProduto__informacao__preco\").find('span', class_=\"prateleiraProduto__informacao__preco--valor\").text\n",
    "        \n",
    "        \n",
    "        # Print all data\n",
    "        print(\"Title:\", title_text)\n",
    "        print(\"Author:\", autor_text)\n",
    "        print(\"Price:\", price_text)\n",
    "                \n",
    "        ##Append into a Dataframe:\n",
    "        #book_df.append([title_text,autor_text,price_text])\n",
    "\n",
    "#df = pd.DataFrame(book_df, columns=[\"Title\", \"Author\", \"Price\"])\n",
    "#df\n"
   ]
  },
  {
   "cell_type": "markdown",
   "metadata": {},
   "source": [
    "-------------------------------------\n",
    "Putting the categories links into a dataframe to loop with extracting the books details."
   ]
  },
  {
   "cell_type": "code",
   "execution_count": 26,
   "metadata": {},
   "outputs": [
    {
     "data": {
      "text/html": [
       "<div>\n",
       "<style scoped>\n",
       "    .dataframe tbody tr th:only-of-type {\n",
       "        vertical-align: middle;\n",
       "    }\n",
       "\n",
       "    .dataframe tbody tr th {\n",
       "        vertical-align: top;\n",
       "    }\n",
       "\n",
       "    .dataframe thead th {\n",
       "        text-align: right;\n",
       "    }\n",
       "</style>\n",
       "<table border=\"1\" class=\"dataframe\">\n",
       "  <thead>\n",
       "    <tr style=\"text-align: right;\">\n",
       "      <th></th>\n",
       "      <th>categoria</th>\n",
       "      <th>links</th>\n",
       "    </tr>\n",
       "  </thead>\n",
       "  <tbody>\n",
       "    <tr>\n",
       "      <th>0</th>\n",
       "      <td>Administração</td>\n",
       "      <td>https://www.livrariacultura.com.br/livros/admi...</td>\n",
       "    </tr>\n",
       "    <tr>\n",
       "      <th>1</th>\n",
       "      <td>HQs</td>\n",
       "      <td>https://www.livrariacultura.com.br/livros/hqs?...</td>\n",
       "    </tr>\n",
       "    <tr>\n",
       "      <th>2</th>\n",
       "      <td>Engenharia</td>\n",
       "      <td>https://www.livrariacultura.com.br/livros/enge...</td>\n",
       "    </tr>\n",
       "    <tr>\n",
       "      <th>3</th>\n",
       "      <td>Humor e Entretenimento</td>\n",
       "      <td>https://www.livrariacultura.com.br/livros/humo...</td>\n",
       "    </tr>\n",
       "    <tr>\n",
       "      <th>4</th>\n",
       "      <td>Informática e Tecnologia</td>\n",
       "      <td>https://www.livrariacultura.com.br/livros/info...</td>\n",
       "    </tr>\n",
       "  </tbody>\n",
       "</table>\n",
       "</div>"
      ],
      "text/plain": [
       "                  categoria                                              links\n",
       "0             Administração  https://www.livrariacultura.com.br/livros/admi...\n",
       "1                       HQs  https://www.livrariacultura.com.br/livros/hqs?...\n",
       "2                Engenharia  https://www.livrariacultura.com.br/livros/enge...\n",
       "3    Humor e Entretenimento  https://www.livrariacultura.com.br/livros/humo...\n",
       "4  Informática e Tecnologia  https://www.livrariacultura.com.br/livros/info..."
      ]
     },
     "execution_count": 26,
     "metadata": {},
     "output_type": "execute_result"
    }
   ],
   "source": [
    "## CODE - OK\n",
    "\n",
    "# Main URL to scrape Catagories\n",
    "url = \"https://www.livrariacultura.com.br/livros\"\n",
    "page = requests.get(url)\n",
    "\n",
    "# Menu with categories\n",
    "soup = BeautifulSoup(page.content, 'html.parser')\n",
    "categorias = soup.find_all(\"h4\", attrs={\"class\" : \"livros even\"})\n",
    "\n",
    "# Creating the dataframe with categories and url of each.\n",
    "categoria = []\n",
    "for i in categorias:\n",
    "    x = f\"\"\"{i}\"\"\" #html quotes\n",
    "    title = BeautifulSoup(x, \"html.parser\").find('a').text\n",
    "    links = BeautifulSoup(x, \"html.parser\").find('a')['href']\n",
    "    #print(title, links)\n",
    "    categoria.append([title,links])\n",
    "\n",
    "df = pd.DataFrame(categoria, columns=[\"categoria\", \"links\"] )\n",
    "df.head()"
   ]
  },
  {
   "cell_type": "code",
   "execution_count": 27,
   "metadata": {},
   "outputs": [],
   "source": [
    "\n",
    "book_df = []\n",
    "\n",
    "for index, row in df.iterrows():\n",
    "    category = row['categoria']\n",
    "    url = row['links'] \n",
    "\n",
    "    page = requests.get(url)\n",
    "    soup = BeautifulSoup(page.content, 'html.parser')\n",
    "    \n",
    "    books = soup.find_all(\"div\", class_=[\"prateleiraProduto\", \"pronto\", \"livros\"])\n",
    "\n",
    "    \n",
    "    for book in books:\n",
    "        \n",
    "        title_elem = book.find(\"h2\", class_=\"prateleiraProduto__informacao__nome\").find('a')\n",
    "        title_text = title_elem.text if title_elem else \"N/A\"\n",
    "        \n",
    "        autor_elem = book.find(\"h3\", class_=\"prateleiraProduto__autor\").find('li')\n",
    "        autor_text = autor_elem.text if autor_elem else \"N/A\" \n",
    "        \n",
    "        price_elem = book.find(\"div\", class_=\"prateleiraProduto__informacao__preco\").find('span', class_=\"prateleiraProduto__informacao__preco--valor\")\n",
    "        price_text = price_elem.text if price_elem else \"N/A\"\n",
    "\n",
    "        cover__img = book.find(\"div\", class_=\"prateleiraProduto__foto\").find('template').find('img')['src']\n",
    "             \n",
    "        book_df.append([category, title_text, autor_text, price_text, cover__img])\n",
    "\n",
    "df_books = pd.DataFrame(book_df, columns=[\"Category\", \"Title\", \"Author\", \"Price\", \"cover_img\"])"
   ]
  },
  {
   "cell_type": "code",
   "execution_count": 28,
   "metadata": {},
   "outputs": [
    {
     "data": {
      "text/html": [
       "<div>\n",
       "<style scoped>\n",
       "    .dataframe tbody tr th:only-of-type {\n",
       "        vertical-align: middle;\n",
       "    }\n",
       "\n",
       "    .dataframe tbody tr th {\n",
       "        vertical-align: top;\n",
       "    }\n",
       "\n",
       "    .dataframe thead th {\n",
       "        text-align: right;\n",
       "    }\n",
       "</style>\n",
       "<table border=\"1\" class=\"dataframe\">\n",
       "  <thead>\n",
       "    <tr style=\"text-align: right;\">\n",
       "      <th></th>\n",
       "      <th>Category</th>\n",
       "      <th>Title</th>\n",
       "      <th>Author</th>\n",
       "      <th>Price</th>\n",
       "      <th>cover_img</th>\n",
       "    </tr>\n",
       "  </thead>\n",
       "  <tbody>\n",
       "    <tr>\n",
       "      <th>0</th>\n",
       "      <td>Administração</td>\n",
       "      <td>ALÉM DA SEGURANÇA PSICOLÓGICA</td>\n",
       "      <td>Autor:BORRONI-BIANCASTELLI, LUCA</td>\n",
       "      <td>R$ 79,90</td>\n",
       "      <td>https://livrariacultura.vteximg.com.br/arquivo...</td>\n",
       "    </tr>\n",
       "    <tr>\n",
       "      <th>1</th>\n",
       "      <td>Administração</td>\n",
       "      <td>A PSICOLOGIA FINANCEIRA</td>\n",
       "      <td>Tradutor:FIUZA, BRUNO|Tradutor:CLAPP, ROBERTA|...</td>\n",
       "      <td>R$ 49,90</td>\n",
       "      <td>https://livrariacultura.vteximg.com.br/arquivo...</td>\n",
       "    </tr>\n",
       "    <tr>\n",
       "      <th>2</th>\n",
       "      <td>Administração</td>\n",
       "      <td>ESSENCIALISMO</td>\n",
       "      <td>Tradutor:MEDINA, BEATRIZ|Autor:MCKEOWN, GREG</td>\n",
       "      <td>R$ 59,90</td>\n",
       "      <td>https://livrariacultura.vteximg.com.br/arquivo...</td>\n",
       "    </tr>\n",
       "    <tr>\n",
       "      <th>3</th>\n",
       "      <td>Administração</td>\n",
       "      <td>NETWORKING - DE PUTA A PADRE</td>\n",
       "      <td>BOM, BRUNO PEDRO / MESQUITA NETO, ANTONIO AMARO</td>\n",
       "      <td>R$ 69,90</td>\n",
       "      <td>https://livrariacultura.vteximg.com.br/arquivo...</td>\n",
       "    </tr>\n",
       "    <tr>\n",
       "      <th>4</th>\n",
       "      <td>Administração</td>\n",
       "      <td>JOGO DESCUBRA SEU TIPO DE PERSONALIDADE NO</td>\n",
       "      <td>Autor:MEDA, MARCO|Autor:ROMA, ANDRÉIA</td>\n",
       "      <td>R$ 179,90</td>\n",
       "      <td>https://livrariacultura.vteximg.com.br/arquivo...</td>\n",
       "    </tr>\n",
       "  </tbody>\n",
       "</table>\n",
       "</div>"
      ],
      "text/plain": [
       "        Category                                       Title  \\\n",
       "0  Administração               ALÉM DA SEGURANÇA PSICOLÓGICA   \n",
       "1  Administração                     A PSICOLOGIA FINANCEIRA   \n",
       "2  Administração                               ESSENCIALISMO   \n",
       "3  Administração                NETWORKING - DE PUTA A PADRE   \n",
       "4  Administração  JOGO DESCUBRA SEU TIPO DE PERSONALIDADE NO   \n",
       "\n",
       "                                              Author      Price  \\\n",
       "0                   Autor:BORRONI-BIANCASTELLI, LUCA   R$ 79,90   \n",
       "1  Tradutor:FIUZA, BRUNO|Tradutor:CLAPP, ROBERTA|...   R$ 49,90   \n",
       "2       Tradutor:MEDINA, BEATRIZ|Autor:MCKEOWN, GREG   R$ 59,90   \n",
       "3    BOM, BRUNO PEDRO / MESQUITA NETO, ANTONIO AMARO   R$ 69,90   \n",
       "4              Autor:MEDA, MARCO|Autor:ROMA, ANDRÉIA  R$ 179,90   \n",
       "\n",
       "                                           cover_img  \n",
       "0  https://livrariacultura.vteximg.com.br/arquivo...  \n",
       "1  https://livrariacultura.vteximg.com.br/arquivo...  \n",
       "2  https://livrariacultura.vteximg.com.br/arquivo...  \n",
       "3  https://livrariacultura.vteximg.com.br/arquivo...  \n",
       "4  https://livrariacultura.vteximg.com.br/arquivo...  "
      ]
     },
     "execution_count": 28,
     "metadata": {},
     "output_type": "execute_result"
    }
   ],
   "source": [
    "df_books.head()"
   ]
  },
  {
   "cell_type": "code",
   "execution_count": 34,
   "metadata": {},
   "outputs": [
    {
     "data": {
      "text/plain": [
       "0       79.9\n",
       "1       49.9\n",
       "2       59.9\n",
       "3       69.9\n",
       "4      179.9\n",
       "       ...  \n",
       "981    169.0\n",
       "982    214.0\n",
       "983    129.0\n",
       "984      0.0\n",
       "985      0.0\n",
       "Name: Price, Length: 986, dtype: float64"
      ]
     },
     "execution_count": 34,
     "metadata": {},
     "output_type": "execute_result"
    }
   ],
   "source": [
    "# Cleaning and preparing columns\n",
    "df_books['Price'] = df_books['Price'].str.replace('R\\$ ', '', regex=True).str.replace(',', '.', regex=True).replace('N/A', 0).astype(float)\n",
    "df_books['Price']"
   ]
  },
  {
   "cell_type": "code",
   "execution_count": 30,
   "metadata": {},
   "outputs": [],
   "source": [
    "# Exporting data to csv \n",
    "df_books.to_csv('data/books_by_categories_scrape.csv', index=False)"
   ]
  }
 ],
 "metadata": {
  "kernelspec": {
   "display_name": "Python 3",
   "language": "python",
   "name": "python3"
  },
  "language_info": {
   "codemirror_mode": {
    "name": "ipython",
    "version": 3
   },
   "file_extension": ".py",
   "mimetype": "text/x-python",
   "name": "python",
   "nbconvert_exporter": "python",
   "pygments_lexer": "ipython3",
   "version": "3.11.0"
  },
  "orig_nbformat": 4
 },
 "nbformat": 4,
 "nbformat_minor": 2
}
